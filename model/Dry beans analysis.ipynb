{
 "cells": [
  {
   "cell_type": "code",
   "execution_count": 1,
   "id": "7c063f2f-510b-43c2-9f1c-b1b52670685a",
   "metadata": {},
   "outputs": [
    {
     "name": "stdout",
     "output_type": "stream",
     "text": [
      "Requirement already satisfied: pandas in c:\\users\\rajitha\\desktop\\dry_beans_analysis\\model\\env\\lib\\site-packages (2.2.2)\n",
      "Requirement already satisfied: numpy>=1.26.0 in c:\\users\\rajitha\\desktop\\dry_beans_analysis\\model\\env\\lib\\site-packages (from pandas) (2.1.1)\n",
      "Requirement already satisfied: python-dateutil>=2.8.2 in c:\\users\\rajitha\\desktop\\dry_beans_analysis\\model\\env\\lib\\site-packages (from pandas) (2.9.0.post0)\n",
      "Requirement already satisfied: pytz>=2020.1 in c:\\users\\rajitha\\desktop\\dry_beans_analysis\\model\\env\\lib\\site-packages (from pandas) (2024.2)\n",
      "Requirement already satisfied: tzdata>=2022.7 in c:\\users\\rajitha\\desktop\\dry_beans_analysis\\model\\env\\lib\\site-packages (from pandas) (2024.1)\n",
      "Requirement already satisfied: six>=1.5 in c:\\users\\rajitha\\desktop\\dry_beans_analysis\\model\\env\\lib\\site-packages (from python-dateutil>=2.8.2->pandas) (1.16.0)\n"
     ]
    }
   ],
   "source": [
    "!pip install pandas"
   ]
  },
  {
   "cell_type": "code",
   "execution_count": 2,
   "id": "1ffa296d-7fdb-4ae2-9b45-904f8b2c0556",
   "metadata": {},
   "outputs": [],
   "source": [
    "import pandas as pd"
   ]
  },
  {
   "cell_type": "code",
   "execution_count": 3,
   "id": "67a9fb4e-bca8-4986-b32b-6e5bcda76d7c",
   "metadata": {},
   "outputs": [
    {
     "name": "stdout",
     "output_type": "stream",
     "text": [
      "Requirement already satisfied: numpy in c:\\users\\rajitha\\desktop\\dry_beans_analysis\\model\\env\\lib\\site-packages (2.1.1)\n",
      "Requirement already satisfied: scikit-learn in c:\\users\\rajitha\\desktop\\dry_beans_analysis\\model\\env\\lib\\site-packages (1.5.2)\n",
      "Requirement already satisfied: matplotlib in c:\\users\\rajitha\\desktop\\dry_beans_analysis\\model\\env\\lib\\site-packages (3.9.2)\n",
      "Requirement already satisfied: seaborn in c:\\users\\rajitha\\desktop\\dry_beans_analysis\\model\\env\\lib\\site-packages (0.13.2)\n",
      "Requirement already satisfied: scipy>=1.6.0 in c:\\users\\rajitha\\desktop\\dry_beans_analysis\\model\\env\\lib\\site-packages (from scikit-learn) (1.14.1)\n",
      "Requirement already satisfied: joblib>=1.2.0 in c:\\users\\rajitha\\desktop\\dry_beans_analysis\\model\\env\\lib\\site-packages (from scikit-learn) (1.4.2)\n",
      "Requirement already satisfied: threadpoolctl>=3.1.0 in c:\\users\\rajitha\\desktop\\dry_beans_analysis\\model\\env\\lib\\site-packages (from scikit-learn) (3.5.0)\n",
      "Requirement already satisfied: contourpy>=1.0.1 in c:\\users\\rajitha\\desktop\\dry_beans_analysis\\model\\env\\lib\\site-packages (from matplotlib) (1.3.0)\n",
      "Requirement already satisfied: cycler>=0.10 in c:\\users\\rajitha\\desktop\\dry_beans_analysis\\model\\env\\lib\\site-packages (from matplotlib) (0.12.1)\n",
      "Requirement already satisfied: fonttools>=4.22.0 in c:\\users\\rajitha\\desktop\\dry_beans_analysis\\model\\env\\lib\\site-packages (from matplotlib) (4.53.1)\n",
      "Requirement already satisfied: kiwisolver>=1.3.1 in c:\\users\\rajitha\\desktop\\dry_beans_analysis\\model\\env\\lib\\site-packages (from matplotlib) (1.4.7)\n",
      "Requirement already satisfied: packaging>=20.0 in c:\\users\\rajitha\\desktop\\dry_beans_analysis\\model\\env\\lib\\site-packages (from matplotlib) (24.1)\n",
      "Requirement already satisfied: pillow>=8 in c:\\users\\rajitha\\desktop\\dry_beans_analysis\\model\\env\\lib\\site-packages (from matplotlib) (10.4.0)\n",
      "Requirement already satisfied: pyparsing>=2.3.1 in c:\\users\\rajitha\\desktop\\dry_beans_analysis\\model\\env\\lib\\site-packages (from matplotlib) (3.1.4)\n",
      "Requirement already satisfied: python-dateutil>=2.7 in c:\\users\\rajitha\\desktop\\dry_beans_analysis\\model\\env\\lib\\site-packages (from matplotlib) (2.9.0.post0)\n",
      "Requirement already satisfied: pandas>=1.2 in c:\\users\\rajitha\\desktop\\dry_beans_analysis\\model\\env\\lib\\site-packages (from seaborn) (2.2.2)\n",
      "Requirement already satisfied: pytz>=2020.1 in c:\\users\\rajitha\\desktop\\dry_beans_analysis\\model\\env\\lib\\site-packages (from pandas>=1.2->seaborn) (2024.2)\n",
      "Requirement already satisfied: tzdata>=2022.7 in c:\\users\\rajitha\\desktop\\dry_beans_analysis\\model\\env\\lib\\site-packages (from pandas>=1.2->seaborn) (2024.1)\n",
      "Requirement already satisfied: six>=1.5 in c:\\users\\rajitha\\desktop\\dry_beans_analysis\\model\\env\\lib\\site-packages (from python-dateutil>=2.7->matplotlib) (1.16.0)\n"
     ]
    }
   ],
   "source": [
    "!pip install numpy scikit-learn matplotlib seaborn"
   ]
  },
  {
   "cell_type": "code",
   "execution_count": 4,
   "id": "a35a69b9-f55b-4066-be94-23e5471cce97",
   "metadata": {},
   "outputs": [],
   "source": [
    "import numpy as np\n",
    "import sklearn.model_selection as ms\n",
    "import sklearn.linear_model as lm\n",
    "import matplotlib.pyplot as plt\n",
    "import seaborn as sns"
   ]
  },
  {
   "cell_type": "code",
   "execution_count": 5,
   "id": "129fb965-b996-4687-8cbc-704f26daee35",
   "metadata": {},
   "outputs": [],
   "source": [
    "url = \"https://docs.google.com/spreadsheets/d/17XgfyASm9i2b7fDD0qFcAkUQsL8uDKnj/edit?usp=sharing&ouid=109737139146311948216&rtpof=true&sd=true\"\n",
    "data_set = url"
   ]
  },
  {
   "cell_type": "code",
   "execution_count": 6,
   "id": "63ff613d-0614-4428-9765-b04c7d486927",
   "metadata": {},
   "outputs": [
    {
     "data": {
      "text/plain": [
       "'https://docs.google.com/spreadsheets/d/17XgfyASm9i2b7fDD0qFcAkUQsL8uDKnj/edit?usp=sharing&ouid=109737139146311948216&rtpof=true&sd=true'"
      ]
     },
     "execution_count": 6,
     "metadata": {},
     "output_type": "execute_result"
    }
   ],
   "source": [
    "data_set"
   ]
  },
  {
   "cell_type": "code",
   "execution_count": null,
   "id": "40bc1558-896d-4aac-8ef3-06ec8462bdd5",
   "metadata": {},
   "outputs": [],
   "source": []
  }
 ],
 "metadata": {
  "kernelspec": {
   "display_name": "Python 3 (ipykernel)",
   "language": "python",
   "name": "python3"
  },
  "language_info": {
   "codemirror_mode": {
    "name": "ipython",
    "version": 3
   },
   "file_extension": ".py",
   "mimetype": "text/x-python",
   "name": "python",
   "nbconvert_exporter": "python",
   "pygments_lexer": "ipython3",
   "version": "3.12.6"
  }
 },
 "nbformat": 4,
 "nbformat_minor": 5
}
